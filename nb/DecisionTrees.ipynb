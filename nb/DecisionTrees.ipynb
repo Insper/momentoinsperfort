{
 "cells": [
  {
   "cell_type": "markdown",
   "id": "35ced481-5f97-44ab-87a3-3d84afbf5ba3",
   "metadata": {
    "jupyter": {
     "source_hidden": true
    },
    "tags": []
   },
   "source": []
  },
  {
   "cell_type": "code",
   "execution_count": 4,
   "id": "7b73f202-1ad3-446e-a944-2a1c4d162501",
   "metadata": {},
   "outputs": [],
   "source": [
    "import pandas as pd"
   ]
  },
  {
   "cell_type": "code",
   "execution_count": 2,
   "id": "4a39b59c-b8ae-47bb-9434-deaee67b6b4c",
   "metadata": {},
   "outputs": [],
   "source": [
    "## Fonte: https://towardsdatascience.com/decision-tree-an-algorithm-that-works-like-the-human-brain-8bc0652f1fc6\n",
    "\n",
    "from sklearn.tree import DecisionTreeClassifier\n",
    "import pandas as pd\n",
    "\n",
    "# create a matrix including the data\n",
    "data = [[8,8,'🐕'],[50,40,'🐕'],[8,9,'🐱'],[15,12,'🐕'],[9,9.8,'🐱']]"
   ]
  },
  {
   "cell_type": "code",
   "execution_count": 10,
   "id": "6dab0e54-4b00-4b8f-8fd9-7e2c3d5c205b",
   "metadata": {},
   "outputs": [],
   "source": [
    "# generating a dataframe from the matrix \n",
    "df = pd.DataFrame(data, columns = ['weight','height','label'])"
   ]
  },
  {
   "cell_type": "code",
   "execution_count": 11,
   "id": "9abdbe02-7acf-42ab-84e6-14f66912ffe9",
   "metadata": {},
   "outputs": [
    {
     "data": {
      "text/html": [
       "<div>\n",
       "<style scoped>\n",
       "    .dataframe tbody tr th:only-of-type {\n",
       "        vertical-align: middle;\n",
       "    }\n",
       "\n",
       "    .dataframe tbody tr th {\n",
       "        vertical-align: top;\n",
       "    }\n",
       "\n",
       "    .dataframe thead th {\n",
       "        text-align: right;\n",
       "    }\n",
       "</style>\n",
       "<table border=\"1\" class=\"dataframe\">\n",
       "  <thead>\n",
       "    <tr style=\"text-align: right;\">\n",
       "      <th></th>\n",
       "      <th>weight</th>\n",
       "      <th>height</th>\n",
       "      <th>label</th>\n",
       "    </tr>\n",
       "  </thead>\n",
       "  <tbody>\n",
       "    <tr>\n",
       "      <th>0</th>\n",
       "      <td>8</td>\n",
       "      <td>8.0</td>\n",
       "      <td>🐕</td>\n",
       "    </tr>\n",
       "    <tr>\n",
       "      <th>1</th>\n",
       "      <td>50</td>\n",
       "      <td>40.0</td>\n",
       "      <td>🐕</td>\n",
       "    </tr>\n",
       "    <tr>\n",
       "      <th>2</th>\n",
       "      <td>8</td>\n",
       "      <td>9.0</td>\n",
       "      <td>🐱</td>\n",
       "    </tr>\n",
       "    <tr>\n",
       "      <th>3</th>\n",
       "      <td>15</td>\n",
       "      <td>12.0</td>\n",
       "      <td>🐕</td>\n",
       "    </tr>\n",
       "    <tr>\n",
       "      <th>4</th>\n",
       "      <td>9</td>\n",
       "      <td>9.8</td>\n",
       "      <td>🐱</td>\n",
       "    </tr>\n",
       "  </tbody>\n",
       "</table>\n",
       "</div>"
      ],
      "text/plain": [
       "   weight  height label\n",
       "0       8     8.0     🐕\n",
       "1      50    40.0     🐕\n",
       "2       8     9.0     🐱\n",
       "3      15    12.0     🐕\n",
       "4       9     9.8     🐱"
      ]
     },
     "execution_count": 11,
     "metadata": {},
     "output_type": "execute_result"
    }
   ],
   "source": [
    "df"
   ]
  },
  {
   "cell_type": "code",
   "execution_count": 12,
   "id": "160dc52b-7039-4dcb-b11c-3b496957fe76",
   "metadata": {},
   "outputs": [],
   "source": [
    "\n",
    "\n",
    "# defining predictors\n",
    "X = df[['weight','height']]\n",
    "\n",
    "# definig the target variable and mapping it to 1 for dog and 0 for cat\n",
    "y = df['label'].replace({'🐕':1, '🐱':0})\n",
    "\n",
    "# instantiating the model\n",
    "tree = DecisionTreeClassifier() \n",
    "\n",
    "# fitting the model\n",
    "model = tree.fit(X,y)"
   ]
  },
  {
   "cell_type": "code",
   "execution_count": null,
   "id": "e4f11044-bb04-404e-a36b-6818fef14725",
   "metadata": {},
   "outputs": [],
   "source": []
  },
  {
   "cell_type": "markdown",
   "id": "4024d4a4-4d30-4aec-843d-a0e13e693e33",
   "metadata": {},
   "source": [
    "## Plot"
   ]
  },
  {
   "cell_type": "code",
   "execution_count": null,
   "id": "b26a07e3-e66c-4941-9955-02a4d63ed1b5",
   "metadata": {},
   "outputs": [],
   "source": [
    "from sklearn.externals.six import StringIO  \n",
    "from sklearn.tree import export_graphviz\n",
    "import pydotplus\n",
    "from IPython.display import Image\n",
    "\n",
    "\n",
    "dot_data = StringIO()  \n",
    "\n",
    "export_graphviz(\n",
    "    model, \n",
    "    out_file = dot_data,  \n",
    "    filled=True, rounded=True, proportion=False,\n",
    "    special_characters=True, \n",
    "    feature_names=X.columns,\n",
    "    class_names=[\"cat\", \"dog\"]\n",
    ")  \n",
    "\n",
    "graph = pydotplus.graph_from_dot_data(dot_data.getvalue())  \n",
    "\n",
    "Image(graph.create_png()) "
   ]
  }
 ],
 "metadata": {
  "kernelspec": {
   "display_name": "Python 3 (ipykernel)",
   "language": "python",
   "name": "python3"
  },
  "language_info": {
   "codemirror_mode": {
    "name": "ipython",
    "version": 3
   },
   "file_extension": ".py",
   "mimetype": "text/x-python",
   "name": "python",
   "nbconvert_exporter": "python",
   "pygments_lexer": "ipython3",
   "version": "3.9.7"
  }
 },
 "nbformat": 4,
 "nbformat_minor": 5
}
